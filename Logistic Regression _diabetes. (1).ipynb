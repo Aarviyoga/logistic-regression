{
 "cells": [
  {
   "cell_type": "markdown",
   "id": "ef549aab",
   "metadata": {},
   "source": [
    "# Logistic Regression _diabetes"
   ]
  },
  {
   "cell_type": "code",
   "execution_count": 22,
   "id": "cfd94492",
   "metadata": {},
   "outputs": [],
   "source": [
    "import pandas as pd\n",
    "import numpy as np\n",
    "\n",
    "import matplotlib.pyplot as plt\n",
    "import seaborn as sns\n",
    "\n",
    "from sklearn.linear_model import LogisticRegression\n",
    "from sklearn.model_selection import train_test_split\n",
    "from sklearn.metrics import plot_confusion_matrix , roc_curve\n",
    "from sklearn.metrics import accuracy_score, confusion_matrix, classification_report\n",
    "from sklearn.metrics import precision_score, recall_score, f1_score\n",
    "\n",
    "import warnings \n",
    "warnings.filterwarnings(\"ignore\")"
   ]
  },
  {
   "cell_type": "code",
   "execution_count": 2,
   "id": "205a752b",
   "metadata": {},
   "outputs": [
    {
     "data": {
      "text/html": [
       "<div>\n",
       "<style scoped>\n",
       "    .dataframe tbody tr th:only-of-type {\n",
       "        vertical-align: middle;\n",
       "    }\n",
       "\n",
       "    .dataframe tbody tr th {\n",
       "        vertical-align: top;\n",
       "    }\n",
       "\n",
       "    .dataframe thead th {\n",
       "        text-align: right;\n",
       "    }\n",
       "</style>\n",
       "<table border=\"1\" class=\"dataframe\">\n",
       "  <thead>\n",
       "    <tr style=\"text-align: right;\">\n",
       "      <th></th>\n",
       "      <th>Glucose</th>\n",
       "      <th>BloodPressure</th>\n",
       "      <th>SkinThickness</th>\n",
       "      <th>Insulin</th>\n",
       "      <th>BMI</th>\n",
       "      <th>DiabetesPedigreeFunction</th>\n",
       "      <th>Age</th>\n",
       "      <th>Outcome</th>\n",
       "    </tr>\n",
       "  </thead>\n",
       "  <tbody>\n",
       "    <tr>\n",
       "      <th>0</th>\n",
       "      <td>148</td>\n",
       "      <td>50</td>\n",
       "      <td>35</td>\n",
       "      <td>0</td>\n",
       "      <td>33.6</td>\n",
       "      <td>0.627</td>\n",
       "      <td>50</td>\n",
       "      <td>1</td>\n",
       "    </tr>\n",
       "    <tr>\n",
       "      <th>1</th>\n",
       "      <td>85</td>\n",
       "      <td>66</td>\n",
       "      <td>29</td>\n",
       "      <td>0</td>\n",
       "      <td>26.6</td>\n",
       "      <td>0.351</td>\n",
       "      <td>31</td>\n",
       "      <td>0</td>\n",
       "    </tr>\n",
       "    <tr>\n",
       "      <th>2</th>\n",
       "      <td>183</td>\n",
       "      <td>64</td>\n",
       "      <td>0</td>\n",
       "      <td>0</td>\n",
       "      <td>23.3</td>\n",
       "      <td>0.672</td>\n",
       "      <td>52</td>\n",
       "      <td>1</td>\n",
       "    </tr>\n",
       "    <tr>\n",
       "      <th>3</th>\n",
       "      <td>150</td>\n",
       "      <td>66</td>\n",
       "      <td>23</td>\n",
       "      <td>94</td>\n",
       "      <td>28.1</td>\n",
       "      <td>0.167</td>\n",
       "      <td>21</td>\n",
       "      <td>0</td>\n",
       "    </tr>\n",
       "    <tr>\n",
       "      <th>4</th>\n",
       "      <td>150</td>\n",
       "      <td>40</td>\n",
       "      <td>35</td>\n",
       "      <td>168</td>\n",
       "      <td>43.1</td>\n",
       "      <td>2.288</td>\n",
       "      <td>33</td>\n",
       "      <td>1</td>\n",
       "    </tr>\n",
       "    <tr>\n",
       "      <th>...</th>\n",
       "      <td>...</td>\n",
       "      <td>...</td>\n",
       "      <td>...</td>\n",
       "      <td>...</td>\n",
       "      <td>...</td>\n",
       "      <td>...</td>\n",
       "      <td>...</td>\n",
       "      <td>...</td>\n",
       "    </tr>\n",
       "    <tr>\n",
       "      <th>763</th>\n",
       "      <td>101</td>\n",
       "      <td>76</td>\n",
       "      <td>48</td>\n",
       "      <td>180</td>\n",
       "      <td>32.9</td>\n",
       "      <td>0.171</td>\n",
       "      <td>63</td>\n",
       "      <td>0</td>\n",
       "    </tr>\n",
       "    <tr>\n",
       "      <th>764</th>\n",
       "      <td>122</td>\n",
       "      <td>70</td>\n",
       "      <td>27</td>\n",
       "      <td>0</td>\n",
       "      <td>36.8</td>\n",
       "      <td>0.340</td>\n",
       "      <td>27</td>\n",
       "      <td>0</td>\n",
       "    </tr>\n",
       "    <tr>\n",
       "      <th>765</th>\n",
       "      <td>121</td>\n",
       "      <td>72</td>\n",
       "      <td>23</td>\n",
       "      <td>112</td>\n",
       "      <td>26.2</td>\n",
       "      <td>0.245</td>\n",
       "      <td>30</td>\n",
       "      <td>0</td>\n",
       "    </tr>\n",
       "    <tr>\n",
       "      <th>766</th>\n",
       "      <td>126</td>\n",
       "      <td>60</td>\n",
       "      <td>0</td>\n",
       "      <td>0</td>\n",
       "      <td>30.1</td>\n",
       "      <td>0.349</td>\n",
       "      <td>47</td>\n",
       "      <td>1</td>\n",
       "    </tr>\n",
       "    <tr>\n",
       "      <th>767</th>\n",
       "      <td>93</td>\n",
       "      <td>70</td>\n",
       "      <td>31</td>\n",
       "      <td>0</td>\n",
       "      <td>30.4</td>\n",
       "      <td>0.315</td>\n",
       "      <td>23</td>\n",
       "      <td>0</td>\n",
       "    </tr>\n",
       "  </tbody>\n",
       "</table>\n",
       "<p>768 rows × 8 columns</p>\n",
       "</div>"
      ],
      "text/plain": [
       "     Glucose  BloodPressure  SkinThickness  Insulin   BMI  \\\n",
       "0        148             50             35        0  33.6   \n",
       "1         85             66             29        0  26.6   \n",
       "2        183             64              0        0  23.3   \n",
       "3        150             66             23       94  28.1   \n",
       "4        150             40             35      168  43.1   \n",
       "..       ...            ...            ...      ...   ...   \n",
       "763      101             76             48      180  32.9   \n",
       "764      122             70             27        0  36.8   \n",
       "765      121             72             23      112  26.2   \n",
       "766      126             60              0        0  30.1   \n",
       "767       93             70             31        0  30.4   \n",
       "\n",
       "     DiabetesPedigreeFunction  Age  Outcome  \n",
       "0                       0.627   50        1  \n",
       "1                       0.351   31        0  \n",
       "2                       0.672   52        1  \n",
       "3                       0.167   21        0  \n",
       "4                       2.288   33        1  \n",
       "..                        ...  ...      ...  \n",
       "763                     0.171   63        0  \n",
       "764                     0.340   27        0  \n",
       "765                     0.245   30        0  \n",
       "766                     0.349   47        1  \n",
       "767                     0.315   23        0  \n",
       "\n",
       "[768 rows x 8 columns]"
      ]
     },
     "execution_count": 2,
     "metadata": {},
     "output_type": "execute_result"
    }
   ],
   "source": [
    "df = pd.read_csv(\"diabetes.csv\")\n",
    "df"
   ]
  },
  {
   "cell_type": "code",
   "execution_count": 3,
   "id": "564eb385",
   "metadata": {},
   "outputs": [
    {
     "data": {
      "text/html": [
       "<div>\n",
       "<style scoped>\n",
       "    .dataframe tbody tr th:only-of-type {\n",
       "        vertical-align: middle;\n",
       "    }\n",
       "\n",
       "    .dataframe tbody tr th {\n",
       "        vertical-align: top;\n",
       "    }\n",
       "\n",
       "    .dataframe thead th {\n",
       "        text-align: right;\n",
       "    }\n",
       "</style>\n",
       "<table border=\"1\" class=\"dataframe\">\n",
       "  <thead>\n",
       "    <tr style=\"text-align: right;\">\n",
       "      <th></th>\n",
       "      <th>Glucose</th>\n",
       "      <th>BloodPressure</th>\n",
       "      <th>SkinThickness</th>\n",
       "      <th>Insulin</th>\n",
       "      <th>BMI</th>\n",
       "      <th>DiabetesPedigreeFunction</th>\n",
       "      <th>Age</th>\n",
       "      <th>Outcome</th>\n",
       "    </tr>\n",
       "  </thead>\n",
       "  <tbody>\n",
       "    <tr>\n",
       "      <th>count</th>\n",
       "      <td>768.000000</td>\n",
       "      <td>768.000000</td>\n",
       "      <td>768.000000</td>\n",
       "      <td>768.000000</td>\n",
       "      <td>768.000000</td>\n",
       "      <td>768.000000</td>\n",
       "      <td>768.000000</td>\n",
       "      <td>768.000000</td>\n",
       "    </tr>\n",
       "    <tr>\n",
       "      <th>mean</th>\n",
       "      <td>121.117188</td>\n",
       "      <td>69.076823</td>\n",
       "      <td>20.536458</td>\n",
       "      <td>79.799479</td>\n",
       "      <td>31.992578</td>\n",
       "      <td>0.471876</td>\n",
       "      <td>33.243490</td>\n",
       "      <td>0.348958</td>\n",
       "    </tr>\n",
       "    <tr>\n",
       "      <th>std</th>\n",
       "      <td>31.805091</td>\n",
       "      <td>19.367794</td>\n",
       "      <td>15.952218</td>\n",
       "      <td>115.244002</td>\n",
       "      <td>7.884160</td>\n",
       "      <td>0.331329</td>\n",
       "      <td>11.758182</td>\n",
       "      <td>0.476951</td>\n",
       "    </tr>\n",
       "    <tr>\n",
       "      <th>min</th>\n",
       "      <td>0.000000</td>\n",
       "      <td>0.000000</td>\n",
       "      <td>0.000000</td>\n",
       "      <td>0.000000</td>\n",
       "      <td>0.000000</td>\n",
       "      <td>0.078000</td>\n",
       "      <td>21.000000</td>\n",
       "      <td>0.000000</td>\n",
       "    </tr>\n",
       "    <tr>\n",
       "      <th>25%</th>\n",
       "      <td>99.000000</td>\n",
       "      <td>62.000000</td>\n",
       "      <td>0.000000</td>\n",
       "      <td>0.000000</td>\n",
       "      <td>27.300000</td>\n",
       "      <td>0.243750</td>\n",
       "      <td>24.000000</td>\n",
       "      <td>0.000000</td>\n",
       "    </tr>\n",
       "    <tr>\n",
       "      <th>50%</th>\n",
       "      <td>117.000000</td>\n",
       "      <td>72.000000</td>\n",
       "      <td>23.000000</td>\n",
       "      <td>30.500000</td>\n",
       "      <td>32.000000</td>\n",
       "      <td>0.372500</td>\n",
       "      <td>29.000000</td>\n",
       "      <td>0.000000</td>\n",
       "    </tr>\n",
       "    <tr>\n",
       "      <th>75%</th>\n",
       "      <td>142.000000</td>\n",
       "      <td>80.000000</td>\n",
       "      <td>32.000000</td>\n",
       "      <td>127.250000</td>\n",
       "      <td>36.600000</td>\n",
       "      <td>0.626250</td>\n",
       "      <td>41.000000</td>\n",
       "      <td>1.000000</td>\n",
       "    </tr>\n",
       "    <tr>\n",
       "      <th>max</th>\n",
       "      <td>199.000000</td>\n",
       "      <td>122.000000</td>\n",
       "      <td>99.000000</td>\n",
       "      <td>846.000000</td>\n",
       "      <td>67.100000</td>\n",
       "      <td>2.420000</td>\n",
       "      <td>81.000000</td>\n",
       "      <td>1.000000</td>\n",
       "    </tr>\n",
       "  </tbody>\n",
       "</table>\n",
       "</div>"
      ],
      "text/plain": [
       "          Glucose  BloodPressure  SkinThickness     Insulin         BMI  \\\n",
       "count  768.000000     768.000000     768.000000  768.000000  768.000000   \n",
       "mean   121.117188      69.076823      20.536458   79.799479   31.992578   \n",
       "std     31.805091      19.367794      15.952218  115.244002    7.884160   \n",
       "min      0.000000       0.000000       0.000000    0.000000    0.000000   \n",
       "25%     99.000000      62.000000       0.000000    0.000000   27.300000   \n",
       "50%    117.000000      72.000000      23.000000   30.500000   32.000000   \n",
       "75%    142.000000      80.000000      32.000000  127.250000   36.600000   \n",
       "max    199.000000     122.000000      99.000000  846.000000   67.100000   \n",
       "\n",
       "       DiabetesPedigreeFunction         Age     Outcome  \n",
       "count                768.000000  768.000000  768.000000  \n",
       "mean                   0.471876   33.243490    0.348958  \n",
       "std                    0.331329   11.758182    0.476951  \n",
       "min                    0.078000   21.000000    0.000000  \n",
       "25%                    0.243750   24.000000    0.000000  \n",
       "50%                    0.372500   29.000000    0.000000  \n",
       "75%                    0.626250   41.000000    1.000000  \n",
       "max                    2.420000   81.000000    1.000000  "
      ]
     },
     "execution_count": 3,
     "metadata": {},
     "output_type": "execute_result"
    }
   ],
   "source": [
    "df.describe()"
   ]
  },
  {
   "cell_type": "code",
   "execution_count": 4,
   "id": "a34cc6b6",
   "metadata": {},
   "outputs": [
    {
     "name": "stdout",
     "output_type": "stream",
     "text": [
      "<class 'pandas.core.frame.DataFrame'>\n",
      "RangeIndex: 768 entries, 0 to 767\n",
      "Data columns (total 8 columns):\n",
      " #   Column                    Non-Null Count  Dtype  \n",
      "---  ------                    --------------  -----  \n",
      " 0   Glucose                   768 non-null    int64  \n",
      " 1   BloodPressure             768 non-null    int64  \n",
      " 2   SkinThickness             768 non-null    int64  \n",
      " 3   Insulin                   768 non-null    int64  \n",
      " 4   BMI                       768 non-null    float64\n",
      " 5   DiabetesPedigreeFunction  768 non-null    float64\n",
      " 6   Age                       768 non-null    int64  \n",
      " 7   Outcome                   768 non-null    int64  \n",
      "dtypes: float64(2), int64(6)\n",
      "memory usage: 48.1 KB\n"
     ]
    }
   ],
   "source": [
    "df.info()"
   ]
  },
  {
   "cell_type": "code",
   "execution_count": 5,
   "id": "b3fd48d9",
   "metadata": {},
   "outputs": [
    {
     "data": {
      "text/plain": [
       "0    500\n",
       "1    268\n",
       "Name: Outcome, dtype: int64"
      ]
     },
     "execution_count": 5,
     "metadata": {},
     "output_type": "execute_result"
    }
   ],
   "source": [
    "df[\"Outcome\"].value_counts()"
   ]
  },
  {
   "cell_type": "code",
   "execution_count": 6,
   "id": "85cebde7",
   "metadata": {},
   "outputs": [
    {
     "data": {
      "text/plain": [
       "<AxesSubplot:xlabel='Outcome', ylabel='count'>"
      ]
     },
     "execution_count": 6,
     "metadata": {},
     "output_type": "execute_result"
    },
    {
     "data": {
      "image/png": "[encoded data removed]",
      "text/plain": [
       "<Figure size 432x288 with 1 Axes>"
      ]
     },
     "metadata": {
      "needs_background": "light"
     },
     "output_type": "display_data"
    }
   ],
   "source": [
    "sns.countplot(x=df[\"Outcome\"])"
   ]
  },
  {
   "cell_type": "markdown",
   "id": "849191f3",
   "metadata": {},
   "source": [
    "# Train Test Split"
   ]
  },
  {
   "cell_type": "code",
   "execution_count": 7,
   "id": "3ffe685f",
   "metadata": {},
   "outputs": [],
   "source": [
    "x = df.drop(\"Outcome\",axis =1)\n",
    "y = df[\"Outcome\"]\n",
    "\n",
    "x_train, x_test, y_train, y_test = train_test_split(x,y,test_size=0.25 ,random_state=11, stratify=y)"
   ]
  },
  {
   "cell_type": "code",
   "execution_count": 8,
   "id": "178fb3f5",
   "metadata": {},
   "outputs": [
    {
     "data": {
      "text/html": [
       "<div>\n",
       "<style scoped>\n",
       "    .dataframe tbody tr th:only-of-type {\n",
       "        vertical-align: middle;\n",
       "    }\n",
       "\n",
       "    .dataframe tbody tr th {\n",
       "        vertical-align: top;\n",
       "    }\n",
       "\n",
       "    .dataframe thead th {\n",
       "        text-align: right;\n",
       "    }\n",
       "</style>\n",
       "<table border=\"1\" class=\"dataframe\">\n",
       "  <thead>\n",
       "    <tr style=\"text-align: right;\">\n",
       "      <th></th>\n",
       "      <th>Glucose</th>\n",
       "      <th>BloodPressure</th>\n",
       "      <th>SkinThickness</th>\n",
       "      <th>Insulin</th>\n",
       "      <th>BMI</th>\n",
       "      <th>DiabetesPedigreeFunction</th>\n",
       "      <th>Age</th>\n",
       "    </tr>\n",
       "  </thead>\n",
       "  <tbody>\n",
       "    <tr>\n",
       "      <th>359</th>\n",
       "      <td>196</td>\n",
       "      <td>76</td>\n",
       "      <td>36</td>\n",
       "      <td>249</td>\n",
       "      <td>36.5</td>\n",
       "      <td>0.875</td>\n",
       "      <td>29</td>\n",
       "    </tr>\n",
       "    <tr>\n",
       "      <th>454</th>\n",
       "      <td>100</td>\n",
       "      <td>54</td>\n",
       "      <td>28</td>\n",
       "      <td>105</td>\n",
       "      <td>37.8</td>\n",
       "      <td>0.498</td>\n",
       "      <td>24</td>\n",
       "    </tr>\n",
       "    <tr>\n",
       "      <th>110</th>\n",
       "      <td>171</td>\n",
       "      <td>72</td>\n",
       "      <td>33</td>\n",
       "      <td>135</td>\n",
       "      <td>33.3</td>\n",
       "      <td>0.199</td>\n",
       "      <td>24</td>\n",
       "    </tr>\n",
       "    <tr>\n",
       "      <th>349</th>\n",
       "      <td>0</td>\n",
       "      <td>80</td>\n",
       "      <td>32</td>\n",
       "      <td>0</td>\n",
       "      <td>41.0</td>\n",
       "      <td>0.346</td>\n",
       "      <td>37</td>\n",
       "    </tr>\n",
       "    <tr>\n",
       "      <th>221</th>\n",
       "      <td>158</td>\n",
       "      <td>90</td>\n",
       "      <td>0</td>\n",
       "      <td>0</td>\n",
       "      <td>31.6</td>\n",
       "      <td>0.805</td>\n",
       "      <td>66</td>\n",
       "    </tr>\n",
       "    <tr>\n",
       "      <th>...</th>\n",
       "      <td>...</td>\n",
       "      <td>...</td>\n",
       "      <td>...</td>\n",
       "      <td>...</td>\n",
       "      <td>...</td>\n",
       "      <td>...</td>\n",
       "      <td>...</td>\n",
       "    </tr>\n",
       "    <tr>\n",
       "      <th>599</th>\n",
       "      <td>109</td>\n",
       "      <td>38</td>\n",
       "      <td>18</td>\n",
       "      <td>120</td>\n",
       "      <td>23.1</td>\n",
       "      <td>0.407</td>\n",
       "      <td>26</td>\n",
       "    </tr>\n",
       "    <tr>\n",
       "      <th>147</th>\n",
       "      <td>106</td>\n",
       "      <td>64</td>\n",
       "      <td>35</td>\n",
       "      <td>119</td>\n",
       "      <td>30.5</td>\n",
       "      <td>1.400</td>\n",
       "      <td>34</td>\n",
       "    </tr>\n",
       "    <tr>\n",
       "      <th>637</th>\n",
       "      <td>94</td>\n",
       "      <td>76</td>\n",
       "      <td>18</td>\n",
       "      <td>66</td>\n",
       "      <td>31.6</td>\n",
       "      <td>0.649</td>\n",
       "      <td>23</td>\n",
       "    </tr>\n",
       "    <tr>\n",
       "      <th>265</th>\n",
       "      <td>96</td>\n",
       "      <td>74</td>\n",
       "      <td>18</td>\n",
       "      <td>67</td>\n",
       "      <td>33.6</td>\n",
       "      <td>0.997</td>\n",
       "      <td>43</td>\n",
       "    </tr>\n",
       "    <tr>\n",
       "      <th>699</th>\n",
       "      <td>118</td>\n",
       "      <td>70</td>\n",
       "      <td>0</td>\n",
       "      <td>0</td>\n",
       "      <td>44.5</td>\n",
       "      <td>0.904</td>\n",
       "      <td>26</td>\n",
       "    </tr>\n",
       "  </tbody>\n",
       "</table>\n",
       "<p>576 rows × 7 columns</p>\n",
       "</div>"
      ],
      "text/plain": [
       "     Glucose  BloodPressure  SkinThickness  Insulin   BMI  \\\n",
       "359      196             76             36      249  36.5   \n",
       "454      100             54             28      105  37.8   \n",
       "110      171             72             33      135  33.3   \n",
       "349        0             80             32        0  41.0   \n",
       "221      158             90              0        0  31.6   \n",
       "..       ...            ...            ...      ...   ...   \n",
       "599      109             38             18      120  23.1   \n",
       "147      106             64             35      119  30.5   \n",
       "637       94             76             18       66  31.6   \n",
       "265       96             74             18       67  33.6   \n",
       "699      118             70              0        0  44.5   \n",
       "\n",
       "     DiabetesPedigreeFunction  Age  \n",
       "359                     0.875   29  \n",
       "454                     0.498   24  \n",
       "110                     0.199   24  \n",
       "349                     0.346   37  \n",
       "221                     0.805   66  \n",
       "..                        ...  ...  \n",
       "599                     0.407   26  \n",
       "147                     1.400   34  \n",
       "637                     0.649   23  \n",
       "265                     0.997   43  \n",
       "699                     0.904   26  \n",
       "\n",
       "[576 rows x 7 columns]"
      ]
     },
     "execution_count": 8,
     "metadata": {},
     "output_type": "execute_result"
    }
   ],
   "source": [
    "x_train"
   ]
  },
  {
   "cell_type": "code",
   "execution_count": 9,
   "id": "b130af58",
   "metadata": {},
   "outputs": [
    {
     "data": {
      "text/plain": [
       "0.6510416666666666"
      ]
     },
     "execution_count": 9,
     "metadata": {},
     "output_type": "execute_result"
    }
   ],
   "source": [
    "500 / (500+268)"
   ]
  },
  {
   "cell_type": "code",
   "execution_count": 10,
   "id": "5034e86c",
   "metadata": {},
   "outputs": [
    {
     "data": {
      "text/plain": [
       "0    375\n",
       "1    201\n",
       "Name: Outcome, dtype: int64"
      ]
     },
     "execution_count": 10,
     "metadata": {},
     "output_type": "execute_result"
    }
   ],
   "source": [
    "y_train.value_counts()"
   ]
  },
  {
   "cell_type": "code",
   "execution_count": 11,
   "id": "4fa4d31f",
   "metadata": {},
   "outputs": [
    {
     "data": {
      "text/plain": [
       "0.6510416666666666"
      ]
     },
     "execution_count": 11,
     "metadata": {},
     "output_type": "execute_result"
    }
   ],
   "source": [
    "375 /(375+201)"
   ]
  },
  {
   "cell_type": "markdown",
   "id": "6435a4c6",
   "metadata": {},
   "source": [
    "# Model training"
   ]
  },
  {
   "cell_type": "code",
   "execution_count": 12,
   "id": "8b29f8a7",
   "metadata": {},
   "outputs": [
    {
     "data": {
      "text/html": [
       "<style>#sk-container-id-1 {color: black;background-color: white;}#sk-container-id-1 pre{padding: 0;}#sk-container-id-1 div.sk-toggleable {background-color: white;}#sk-container-id-1 label.sk-toggleable__label {cursor: pointer;display: block;width: 100%;margin-bottom: 0;padding: 0.3em;box-sizing: border-box;text-align: center;}#sk-container-id-1 label.sk-toggleable__label-arrow:before {content: \"▸\";float: left;margin-right: 0.25em;color: #696969;}#sk-container-id-1 label.sk-toggleable__label-arrow:hover:before {color: black;}#sk-container-id-1 div.sk-estimator:hover label.sk-toggleable__label-arrow:before {color: black;}#sk-container-id-1 div.sk-toggleable__content {max-height: 0;max-width: 0;overflow: hidden;text-align: left;background-color: #f0f8ff;}#sk-container-id-1 div.sk-toggleable__content pre {margin: 0.2em;color: black;border-radius: 0.25em;background-color: #f0f8ff;}#sk-container-id-1 input.sk-toggleable__control:checked~div.sk-toggleable__content {max-height: 200px;max-width: 100%;overflow: auto;}#sk-container-id-1 input.sk-toggleable__control:checked~label.sk-toggleable__label-arrow:before {content: \"▾\";}#sk-container-id-1 div.sk-estimator input.sk-toggleable__control:checked~label.sk-toggleable__label {background-color: #d4ebff;}#sk-container-id-1 div.sk-label input.sk-toggleable__control:checked~label.sk-toggleable__label {background-color: #d4ebff;}#sk-container-id-1 input.sk-hidden--visually {border: 0;clip: rect(1px 1px 1px 1px);clip: rect(1px, 1px, 1px, 1px);height: 1px;margin: -1px;overflow: hidden;padding: 0;position: absolute;width: 1px;}#sk-container-id-1 div.sk-estimator {font-family: monospace;background-color: #f0f8ff;border: 1px dotted black;border-radius: 0.25em;box-sizing: border-box;margin-bottom: 0.5em;}#sk-container-id-1 div.sk-estimator:hover {background-color: #d4ebff;}#sk-container-id-1 div.sk-parallel-item::after {content: \"\";width: 100%;border-bottom: 1px solid gray;flex-grow: 1;}#sk-container-id-1 div.sk-label:hover label.sk-toggleable__label {background-color: #d4ebff;}#sk-container-id-1 div.sk-serial::before {content: \"\";position: absolute;border-left: 1px solid gray;box-sizing: border-box;top: 0;bottom: 0;left: 50%;z-index: 0;}#sk-container-id-1 div.sk-serial {display: flex;flex-direction: column;align-items: center;background-color: white;padding-right: 0.2em;padding-left: 0.2em;position: relative;}#sk-container-id-1 div.sk-item {position: relative;z-index: 1;}#sk-container-id-1 div.sk-parallel {display: flex;align-items: stretch;justify-content: center;background-color: white;position: relative;}#sk-container-id-1 div.sk-item::before, #sk-container-id-1 div.sk-parallel-item::before {content: \"\";position: absolute;border-left: 1px solid gray;box-sizing: border-box;top: 0;bottom: 0;left: 50%;z-index: -1;}#sk-container-id-1 div.sk-parallel-item {display: flex;flex-direction: column;z-index: 1;position: relative;background-color: white;}#sk-container-id-1 div.sk-parallel-item:first-child::after {align-self: flex-end;width: 50%;}#sk-container-id-1 div.sk-parallel-item:last-child::after {align-self: flex-start;width: 50%;}#sk-container-id-1 div.sk-parallel-item:only-child::after {width: 0;}#sk-container-id-1 div.sk-dashed-wrapped {border: 1px dashed gray;margin: 0 0.4em 0.5em 0.4em;box-sizing: border-box;padding-bottom: 0.4em;background-color: white;}#sk-container-id-1 div.sk-label label {font-family: monospace;font-weight: bold;display: inline-block;line-height: 1.2em;}#sk-container-id-1 div.sk-label-container {text-align: center;}#sk-container-id-1 div.sk-container {/* jupyter's `normalize.less` sets `[hidden] { display: none; }` but bootstrap.min.css set `[hidden] { display: none !important; }` so we also need the `!important` here to be able to override the default hidden behavior on the sphinx rendered scikit-learn.org. See: https://github.com/scikit-learn/scikit-learn/issues/21755 */display: inline-block !important;position: relative;}#sk-container-id-1 div.sk-text-repr-fallback {display: none;}</style><div id=\"sk-container-id-1\" class=\"sk-top-container\"><div class=\"sk-text-repr-fallback\"><pre>LogisticRegression()</pre><b>In a Jupyter environment, please rerun this cell to show the HTML representation or trust the notebook. <br />On GitHub, the HTML representation is unable to render, please try loading this page with nbviewer.org.</b></div><div class=\"sk-container\" hidden><div class=\"sk-item\"><div class=\"sk-estimator sk-toggleable\"><input class=\"sk-toggleable__control sk-hidden--visually\" id=\"sk-estimator-id-1\" type=\"checkbox\" checked><label for=\"sk-estimator-id-1\" class=\"sk-toggleable__label sk-toggleable__label-arrow\">LogisticRegression</label><div class=\"sk-toggleable__content\"><pre>LogisticRegression()</pre></div></div></div></div></div>"
      ],
      "text/plain": [
       "LogisticRegression()"
      ]
     },
     "execution_count": 12,
     "metadata": {},
     "output_type": "execute_result"
    }
   ],
   "source": [
    "logistic_model = LogisticRegression()\n",
    "logistic_model.fit(x_train,y_train)"
   ]
  },
  {
   "cell_type": "markdown",
   "id": "f7d5f947",
   "metadata": {},
   "source": [
    "# Evaluation"
   ]
  },
  {
   "cell_type": "code",
   "execution_count": 13,
   "id": "403965f6",
   "metadata": {},
   "outputs": [
    {
     "data": {
      "text/plain": [
       "array([1, 0, 0, 0, 0, 0, 0, 0, 1, 0, 1, 0, 0, 1, 1, 0, 0, 0, 0, 0, 0, 0,\n",
       "       0, 0, 0, 0, 0, 0, 1, 1, 0, 1, 0, 0, 1, 0, 0, 0, 1, 0, 0, 0, 1, 1,\n",
       "       0, 0, 0, 0, 1, 0, 0, 0, 1, 0, 0, 1, 1, 0, 0, 1, 0, 1, 1, 0, 0, 0,\n",
       "       0, 0, 0, 0, 0, 1, 0, 0, 0, 1, 1, 0, 1, 0, 0, 0, 0, 1, 1, 0, 0, 0,\n",
       "       0, 1, 1, 0, 0, 0, 0, 0, 0, 0, 0, 0, 0, 0, 0, 0, 0, 1, 0, 0, 0, 0,\n",
       "       0, 0, 0, 0, 1, 0, 0, 1, 0, 1, 1, 0, 0, 0, 0, 0, 0, 1, 1, 0, 0, 0,\n",
       "       0, 0, 0, 0, 1, 1, 0, 1, 0, 1, 0, 0, 0, 0, 1, 0, 0, 1, 0, 1, 0, 1,\n",
       "       0, 0, 0, 0, 1, 0, 0, 0, 0, 0, 0, 1, 0, 1, 0, 1, 0, 0, 1, 1, 0, 1,\n",
       "       1, 0, 0, 0, 0, 1, 0, 0, 1, 0, 1, 0, 0, 1, 0, 0], dtype=int64)"
      ]
     },
     "execution_count": 13,
     "metadata": {},
     "output_type": "execute_result"
    }
   ],
   "source": [
    "y_pred = logistic_model.predict(x_test)\n",
    "y_pred"
   ]
  },
  {
   "cell_type": "code",
   "execution_count": 23,
   "id": "f7519ca9",
   "metadata": {},
   "outputs": [
    {
     "data": {
      "text/plain": [
       "<sklearn.metrics._plot.confusion_matrix.ConfusionMatrixDisplay at 0x1fe4f8f5220>"
      ]
     },
     "execution_count": 23,
     "metadata": {},
     "output_type": "execute_result"
    },
    {
     "data": {
      "image/png": "[encoded data removed]",
      "text/plain": [
       "<Figure size 432x288 with 2 Axes>"
      ]
     },
     "metadata": {
      "needs_background": "light"
     },
     "output_type": "display_data"
    }
   ],
   "source": [
    "plot_confusion_matrix(logistic_model,x_train,y_train)"
   ]
  },
  {
   "cell_type": "code",
   "execution_count": 24,
   "id": "e27b7b44",
   "metadata": {},
   "outputs": [
    {
     "data": {
      "text/plain": [
       "<sklearn.metrics._plot.confusion_matrix.ConfusionMatrixDisplay at 0x1fe4eea1e80>"
      ]
     },
     "execution_count": 24,
     "metadata": {},
     "output_type": "execute_result"
    },
    {
     "data": {
      "image/png": "[encoded data removed]",
      "text/plain": [
       "<Figure size 432x288 with 2 Axes>"
      ]
     },
     "metadata": {
      "needs_background": "light"
     },
     "output_type": "display_data"
    }
   ],
   "source": [
    "plot_confusion_matrix(logistic_model,x_test,y_test)"
   ]
  },
  {
   "cell_type": "code",
   "execution_count": 14,
   "id": "4231ce56",
   "metadata": {},
   "outputs": [
    {
     "name": "stdout",
     "output_type": "stream",
     "text": [
      "Confusion Matrix:\n",
      " [[110  15]\n",
      " [ 28  39]]\n",
      "********************************************************************************\n",
      "Accuracy: 0.7760416666666666\n",
      "********************************************************************************\n",
      "classification_report:\n",
      "               precision    recall  f1-score   support\n",
      "\n",
      "           0       0.80      0.88      0.84       125\n",
      "           1       0.72      0.58      0.64        67\n",
      "\n",
      "    accuracy                           0.78       192\n",
      "   macro avg       0.76      0.73      0.74       192\n",
      "weighted avg       0.77      0.78      0.77       192\n",
      "\n"
     ]
    }
   ],
   "source": [
    "cnf_matrix = confusion_matrix(y_test,y_pred)\n",
    "print(\"Confusion Matrix:\\n\",cnf_matrix)\n",
    "\n",
    "print(\"*\"*80)\n",
    "accuracy = accuracy_score(y_test,y_pred)\n",
    "print(\"Accuracy:\",accuracy)\n",
    "\n",
    "print(\"*\"*80)\n",
    "clf_report= classification_report(y_test,y_pred)\n",
    "print(\"classification_report:\\n\",clf_report)"
   ]
  },
  {
   "cell_type": "code",
   "execution_count": 15,
   "id": "0d147864",
   "metadata": {},
   "outputs": [
    {
     "name": "stdout",
     "output_type": "stream",
     "text": [
      "Confusion Matrix:\n",
      " [[333  42]\n",
      " [ 86 115]]\n",
      "********************************************************************************\n",
      "Accuracy: 0.7777777777777778\n",
      "********************************************************************************\n",
      "classification_report:\n",
      "               precision    recall  f1-score   support\n",
      "\n",
      "           0       0.79      0.89      0.84       375\n",
      "           1       0.73      0.57      0.64       201\n",
      "\n",
      "    accuracy                           0.78       576\n",
      "   macro avg       0.76      0.73      0.74       576\n",
      "weighted avg       0.77      0.78      0.77       576\n",
      "\n"
     ]
    }
   ],
   "source": [
    "y_pred_train = logistic_model.predict(x_train)\n",
    "\n",
    "cnf_matrix = confusion_matrix(y_train,y_pred_train)\n",
    "print(\"Confusion Matrix:\\n\",cnf_matrix)\n",
    "\n",
    "print(\"*\"*80)\n",
    "accuracy = accuracy_score(y_train,y_pred_train)\n",
    "print(\"Accuracy:\",accuracy)\n",
    "\n",
    "print(\"*\"*80)\n",
    "clf_report= classification_report(y_train,y_pred_train)\n",
    "print(\"classification_report:\\n\",clf_report)"
   ]
  },
  {
   "cell_type": "code",
   "execution_count": 16,
   "id": "e51df158",
   "metadata": {},
   "outputs": [
    {
     "data": {
      "text/plain": [
       "0.3489583333333333"
      ]
     },
     "execution_count": 16,
     "metadata": {},
     "output_type": "execute_result"
    }
   ],
   "source": [
    "201/(375+201)"
   ]
  },
  {
   "cell_type": "code",
   "execution_count": 17,
   "id": "523cd6dd",
   "metadata": {},
   "outputs": [
    {
     "data": {
      "text/plain": [
       "0.7690000000000001"
      ]
     },
     "execution_count": 17,
     "metadata": {},
     "output_type": "execute_result"
    }
   ],
   "source": [
    "0.79 * 0.65 + 0.73*0.35"
   ]
  },
  {
   "cell_type": "code",
   "execution_count": null,
   "id": "776faba0",
   "metadata": {},
   "outputs": [],
   "source": [
    "Predicted values\n",
    "[333  42]   Actual values\n",
    "[ 86 115]   Actual values\n",
    "\n",
    "TN = 333\n",
    "TP = 115\n",
    "FP = 42\n",
    "FN = 86"
   ]
  },
  {
   "cell_type": "code",
   "execution_count": 18,
   "id": "2dbef5c8",
   "metadata": {},
   "outputs": [
    {
     "data": {
      "text/plain": [
       "0.732484076433121"
      ]
     },
     "execution_count": 18,
     "metadata": {},
     "output_type": "execute_result"
    }
   ],
   "source": [
    "#precision = TP/(TP+FP)\n",
    "\n",
    "Precision = 115/(115+42)\n",
    "Precision"
   ]
  },
  {
   "cell_type": "code",
   "execution_count": 19,
   "id": "4ac929db",
   "metadata": {},
   "outputs": [
    {
     "data": {
      "text/plain": [
       "0.7947494033412887"
      ]
     },
     "execution_count": 19,
     "metadata": {},
     "output_type": "execute_result"
    }
   ],
   "source": [
    "#precision = TN/(TN+FN)\n",
    "\n",
    "Precision = 333/(333+86)\n",
    "Precision"
   ]
  },
  {
   "cell_type": "code",
   "execution_count": 25,
   "id": "bedbf9c3",
   "metadata": {},
   "outputs": [
    {
     "data": {
      "text/plain": [
       "array([1, 0, 0, 0, 0, 0, 0, 0, 1, 0, 1, 0, 0, 1, 1, 0, 0, 0, 0, 0, 0, 0,\n",
       "       0, 0, 0, 0, 0, 0, 1, 1, 0, 1, 0, 0, 1, 0, 0, 0, 1, 0, 0, 0, 1, 1,\n",
       "       0, 0, 0, 0, 1, 0, 0, 0, 1, 0, 0, 1, 1, 0, 0, 1, 0, 1, 1, 0, 0, 0,\n",
       "       0, 0, 0, 0, 0, 1, 0, 0, 0, 1, 1, 0, 1, 0, 0, 0, 0, 1, 1, 0, 0, 0,\n",
       "       0, 1, 1, 0, 0, 0, 0, 0, 0, 0, 0, 0, 0, 0, 0, 0, 0, 1, 0, 0, 0, 0,\n",
       "       0, 0, 0, 0, 1, 0, 0, 1, 0, 1, 1, 0, 0, 0, 0, 0, 0, 1, 1, 0, 0, 0,\n",
       "       0, 0, 0, 0, 1, 1, 0, 1, 0, 1, 0, 0, 0, 0, 1, 0, 0, 1, 0, 1, 0, 1,\n",
       "       0, 0, 0, 0, 1, 0, 0, 0, 0, 0, 0, 1, 0, 1, 0, 1, 0, 0, 1, 1, 0, 1,\n",
       "       1, 0, 0, 0, 0, 1, 0, 0, 1, 0, 1, 0, 0, 1, 0, 0], dtype=int64)"
      ]
     },
     "execution_count": 25,
     "metadata": {},
     "output_type": "execute_result"
    }
   ],
   "source": [
    "y_pred = logistic_model.predict(x_test)\n",
    "y_pred"
   ]
  },
  {
   "cell_type": "code",
   "execution_count": 29,
   "id": "4d19faf6",
   "metadata": {},
   "outputs": [],
   "source": [
    "y_pred_prob = logistic_model.predict_proba(x_train)\n"
   ]
  },
  {
   "cell_type": "code",
   "execution_count": 30,
   "id": "5c4b8a01",
   "metadata": {},
   "outputs": [
    {
     "data": {
      "text/plain": [
       "array([0.90237277, 0.24503761, 0.60563067, 0.01201601, 0.78772023,\n",
       "       0.24093424, 0.31505838, 0.14092552, 0.87007733, 0.29215521,\n",
       "       0.13072803, 0.31994933, 0.21465224, 0.82183529, 0.20996879,\n",
       "       0.83508716, 0.08929196, 0.30624857, 0.30083671, 0.03222296,\n",
       "       0.13400477, 0.29798821, 0.3265594 , 0.51637549, 0.2034    ,\n",
       "       0.64888749, 0.82325658, 0.25860422, 0.2200486 , 0.79757726,\n",
       "       0.49039095, 0.00479607, 0.42093176, 0.48483888, 0.6432483 ,\n",
       "       0.11408722, 0.10482519, 0.49175316, 0.37978984, 0.30339145,\n",
       "       0.64792492, 0.22848113, 0.47296521, 0.05143414, 0.71273585,\n",
       "       0.09136447, 0.50833887, 0.72587151, 0.09339536, 0.12103674,\n",
       "       0.39301109, 0.1229471 , 0.83201554, 0.65549434, 0.25448292,\n",
       "       0.6713053 , 0.79901745, 0.07182243, 0.22435176, 0.11048221,\n",
       "       0.16528716, 0.23235301, 0.19865193, 0.52841916, 0.29641141,\n",
       "       0.24435356, 0.03325502, 0.26079205, 0.32517199, 0.88088483,\n",
       "       0.18485717, 0.42826073, 0.11271926, 0.6209088 , 0.59461511,\n",
       "       0.29390507, 0.26815812, 0.46078193, 0.8962259 , 0.06823683,\n",
       "       0.20485408, 0.20824718, 0.77959185, 0.04228671, 0.69609861,\n",
       "       0.1050729 , 0.12266542, 0.31421744, 0.07123337, 0.28204612,\n",
       "       0.94439972, 0.43035217, 0.15129533, 0.4048006 , 0.30835967,\n",
       "       0.95529397, 0.7594548 , 0.01504419, 0.11740613, 0.08025482,\n",
       "       0.12518702, 0.95535601, 0.12620784, 0.04480511, 0.66152231,\n",
       "       0.05029351, 0.32007718, 0.08241512, 0.31856519, 0.14114059,\n",
       "       0.28566185, 0.16276514, 0.1995954 , 0.28363251, 0.96336848,\n",
       "       0.23562993, 0.23691066, 0.72012117, 0.32957905, 0.03858406,\n",
       "       0.09066173, 0.12791615, 0.18204379, 0.6753644 , 0.24402694,\n",
       "       0.40144788, 0.04664504, 0.84173624, 0.08929801, 0.07129147,\n",
       "       0.13470814, 0.18796665, 0.05602965, 0.08653481, 0.05192286,\n",
       "       0.18344965, 0.46931107, 0.08974038, 0.14550245, 0.48138341,\n",
       "       0.13730195, 0.1183572 , 0.09093601, 0.87039858, 0.16708553,\n",
       "       0.27850203, 0.60358548, 0.05990215, 0.69166378, 0.14979554,\n",
       "       0.0514572 , 0.0611512 , 0.78697405, 0.11566473, 0.83310376,\n",
       "       0.07975007, 0.59985783, 0.39702262, 0.79410203, 0.82800735,\n",
       "       0.16242749, 0.10819105, 0.59947591, 0.14981097, 0.1958018 ,\n",
       "       0.80367527, 0.2755248 , 0.07642424, 0.54478675, 0.15964657,\n",
       "       0.37318449, 0.62221812, 0.12767208, 0.8532084 , 0.13475649,\n",
       "       0.21118826, 0.95585185, 0.70113511, 0.08964211, 0.17862077,\n",
       "       0.57007672, 0.2898734 , 0.48616645, 0.45601004, 0.59220819,\n",
       "       0.1397428 , 0.45390767, 0.17683976, 0.87771198, 0.39288024,\n",
       "       0.20292679, 0.03298338, 0.13209046, 0.60208455, 0.19095042,\n",
       "       0.15547817, 0.51444488, 0.63423473, 0.11285712, 0.54514401,\n",
       "       0.0524625 , 0.49453042, 0.08567397, 0.15268439, 0.72312019,\n",
       "       0.40179139, 0.16293208, 0.87730488, 0.15531121, 0.10175456,\n",
       "       0.55287489, 0.10470374, 0.10147359, 0.44338722, 0.13412985,\n",
       "       0.13537879, 0.23247163, 0.25681025, 0.06161487, 0.85305595,\n",
       "       0.18906924, 0.18118392, 0.65016442, 0.12021036, 0.12727108,\n",
       "       0.70864533, 0.16997338, 0.42508867, 0.30279198, 0.6598384 ,\n",
       "       0.40067147, 0.07318526, 0.55596172, 0.70556722, 0.33032768,\n",
       "       0.47832571, 0.89174212, 0.21589977, 0.40336291, 0.03736953,\n",
       "       0.26321012, 0.66082969, 0.21717528, 0.44632297, 0.64621511,\n",
       "       0.22725262, 0.29528778, 0.1811484 , 0.8561822 , 0.32622954,\n",
       "       0.26069436, 0.31122672, 0.7698462 , 0.08999806, 0.21236288,\n",
       "       0.6792286 , 0.22266383, 0.42954635, 0.35653347, 0.38432678,\n",
       "       0.14254378, 0.20504219, 0.17006752, 0.21634762, 0.06278556,\n",
       "       0.23896633, 0.37475339, 0.17156986, 0.31971899, 0.22646306,\n",
       "       0.11887355, 0.66399262, 0.3002307 , 0.4159886 , 0.79789703,\n",
       "       0.79133598, 0.0749602 , 0.9012018 , 0.36043373, 0.51086333,\n",
       "       0.41356228, 0.60623783, 0.23966527, 0.60589046, 0.25665685,\n",
       "       0.3238552 , 0.3990133 , 0.24216412, 0.30467428, 0.18343749,\n",
       "       0.75833326, 0.23508433, 0.10426483, 0.07697139, 0.53000045,\n",
       "       0.7772148 , 0.58713269, 0.53423359, 0.11699439, 0.1043171 ,\n",
       "       0.29335116, 0.25498452, 0.40174332, 0.79359782, 0.08692591,\n",
       "       0.6198668 , 0.09971164, 0.87440991, 0.30438316, 0.02990817,\n",
       "       0.05017131, 0.73833012, 0.39399581, 0.38931177, 0.32309628,\n",
       "       0.07284165, 0.58028093, 0.36298417, 0.35321535, 0.80969528,\n",
       "       0.35358322, 0.83198653, 0.37134098, 0.06390609, 0.06871346,\n",
       "       0.07114746, 0.28017418, 0.9256357 , 0.56162359, 0.75595353,\n",
       "       0.01915823, 0.22422075, 0.53405057, 0.29062898, 0.32046703,\n",
       "       0.1368211 , 0.52743708, 0.06731717, 0.41324893, 0.44986324,\n",
       "       0.19388352, 0.10222059, 0.06030773, 0.29300032, 0.10949228,\n",
       "       0.10695666, 0.06794095, 0.06293507, 0.02589863, 0.0787864 ,\n",
       "       0.3151205 , 0.3338061 , 0.21710646, 0.30395409, 0.10633965,\n",
       "       0.58913767, 0.39664121, 0.69904637, 0.96417993, 0.80158303,\n",
       "       0.17226861, 0.25320924, 0.12207234, 0.16288731, 0.73501947,\n",
       "       0.40574682, 0.14611209, 0.2412334 , 0.18576359, 0.30831997,\n",
       "       0.20944604, 0.56098927, 0.02613376, 0.20988511, 0.6707819 ,\n",
       "       0.5290103 , 0.29913927, 0.14463363, 0.19189457, 0.15069706,\n",
       "       0.29714788, 0.0607983 , 0.08123184, 0.3629172 , 0.62143147,\n",
       "       0.08478642, 0.33776439, 0.54452758, 0.71766463, 0.2298977 ,\n",
       "       0.10277142, 0.16973981, 0.69525401, 0.44820055, 0.82782437,\n",
       "       0.08580444, 0.75126088, 0.04065325, 0.17192327, 0.2752406 ,\n",
       "       0.12952276, 0.72077485, 0.8124765 , 0.431936  , 0.44735382,\n",
       "       0.18492951, 0.30371818, 0.2410491 , 0.5883011 , 0.1456176 ,\n",
       "       0.09553084, 0.17953974, 0.03535787, 0.09620762, 0.45032907,\n",
       "       0.4469216 , 0.72001738, 0.57016618, 0.69234513, 0.04522928,\n",
       "       0.43966228, 0.33700085, 0.11769731, 0.53972028, 0.88533672,\n",
       "       0.33971686, 0.18235639, 0.78741367, 0.21164136, 0.05716872,\n",
       "       0.23484065, 0.6556974 , 0.06955215, 0.25073774, 0.47535843,\n",
       "       0.17094439, 0.78552849, 0.14110296, 0.34753421, 0.51952261,\n",
       "       0.1029918 , 0.71761249, 0.87431412, 0.35377533, 0.9208003 ,\n",
       "       0.30330403, 0.31341584, 0.24371877, 0.17607263, 0.07104519,\n",
       "       0.88559035, 0.44959169, 0.0428163 , 0.75589582, 0.12674176,\n",
       "       0.62624034, 0.08030569, 0.26598484, 0.63276491, 0.06950647,\n",
       "       0.05146782, 0.10232224, 0.55699681, 0.28556207, 0.04993284,\n",
       "       0.18972455, 0.94492621, 0.36264273, 0.39138441, 0.12312378,\n",
       "       0.22835477, 0.88578619, 0.85622063, 0.27558016, 0.32636301,\n",
       "       0.07407892, 0.01834911, 0.35990217, 0.22743129, 0.67141869,\n",
       "       0.31557838, 0.27927137, 0.44974073, 0.13403961, 0.22465584,\n",
       "       0.17921832, 0.12656986, 0.0749682 , 0.40991199, 0.17139127,\n",
       "       0.08361595, 0.65032134, 0.24063402, 0.01924016, 0.05392408,\n",
       "       0.77194077, 0.46951154, 0.87770558, 0.11377068, 0.6749774 ,\n",
       "       0.62099454, 0.03666411, 0.82836296, 0.78997254, 0.55929055,\n",
       "       0.06206507, 0.44334698, 0.31685614, 0.1332382 , 0.164114  ,\n",
       "       0.09790937, 0.51738979, 0.32428866, 0.79528199, 0.14351631,\n",
       "       0.29004696, 0.3072069 , 0.17350223, 0.19838783, 0.52661032,\n",
       "       0.42918027, 0.01204505, 0.20680734, 0.32669069, 0.05183789,\n",
       "       0.13618423, 0.10629687, 0.24357362, 0.17474812, 0.32229386,\n",
       "       0.02856811, 0.02253388, 0.30362177, 0.57731309, 0.02421255,\n",
       "       0.27887621, 0.74389369, 0.67486385, 0.33122748, 0.60125113,\n",
       "       0.02861076, 0.42009386, 0.26534926, 0.06840332, 0.13163336,\n",
       "       0.26582482, 0.14379228, 0.09148846, 0.6868415 , 0.41006382,\n",
       "       0.75761255, 0.76877662, 0.23106261, 0.10888155, 0.17645148,\n",
       "       0.20947235, 0.10029154, 0.31113749, 0.05670805, 0.27737999,\n",
       "       0.28536171, 0.24168733, 0.89962452, 0.8071147 , 0.16643284,\n",
       "       0.34372347, 0.14196506, 0.6499874 , 0.07141011, 0.81334843,\n",
       "       0.15737115, 0.14293653, 0.36920848, 0.11661238, 0.29061311,\n",
       "       0.5495319 ])"
      ]
     },
     "execution_count": 30,
     "metadata": {},
     "output_type": "execute_result"
    }
   ],
   "source": [
    "y_pred_prob[:,1]"
   ]
  },
  {
   "cell_type": "code",
   "execution_count": 31,
   "id": "a7906447",
   "metadata": {},
   "outputs": [],
   "source": [
    "fpr,tpr,thresh = roc_curve(y_train,y_pred_prob[:,1])"
   ]
  },
  {
   "cell_type": "code",
   "execution_count": 32,
   "id": "cbbf2d9e",
   "metadata": {},
   "outputs": [
    {
     "data": {
      "text/plain": [
       "array([0.        , 0.        , 0.00266667, 0.00266667, 0.00533333,\n",
       "       0.00533333, 0.008     , 0.008     , 0.01066667, 0.01066667,\n",
       "       0.01333333, 0.01333333, 0.016     , 0.016     , 0.02133333,\n",
       "       0.02133333, 0.024     , 0.024     , 0.02666667, 0.02666667,\n",
       "       0.02933333, 0.02933333, 0.032     , 0.032     , 0.03466667,\n",
       "       0.03466667, 0.04      , 0.04      , 0.04533333, 0.04533333,\n",
       "       0.05333333, 0.05333333, 0.05866667, 0.05866667, 0.064     ,\n",
       "       0.064     , 0.06666667, 0.06666667, 0.06933333, 0.06933333,\n",
       "       0.07733333, 0.07733333, 0.08266667, 0.08266667, 0.08533333,\n",
       "       0.08533333, 0.088     , 0.088     , 0.09066667, 0.09066667,\n",
       "       0.096     , 0.096     , 0.104     , 0.104     , 0.10933333,\n",
       "       0.10933333, 0.112     , 0.112     , 0.11466667, 0.11466667,\n",
       "       0.11733333, 0.11733333, 0.12266667, 0.12266667, 0.13066667,\n",
       "       0.13066667, 0.13866667, 0.13866667, 0.14666667, 0.14666667,\n",
       "       0.152     , 0.152     , 0.17066667, 0.17066667, 0.176     ,\n",
       "       0.176     , 0.17866667, 0.17866667, 0.18933333, 0.18933333,\n",
       "       0.192     , 0.192     , 0.2       , 0.2       , 0.208     ,\n",
       "       0.208     , 0.21066667, 0.21066667, 0.232     , 0.232     ,\n",
       "       0.23733333, 0.23733333, 0.248     , 0.248     , 0.26133333,\n",
       "       0.26133333, 0.26933333, 0.26933333, 0.27466667, 0.27466667,\n",
       "       0.28      , 0.28      , 0.28266667, 0.28266667, 0.29066667,\n",
       "       0.29066667, 0.29866667, 0.29866667, 0.304     , 0.304     ,\n",
       "       0.30933333, 0.30933333, 0.32266667, 0.32266667, 0.32533333,\n",
       "       0.32533333, 0.34133333, 0.34133333, 0.344     , 0.344     ,\n",
       "       0.34666667, 0.34666667, 0.36266667, 0.36266667, 0.37866667,\n",
       "       0.37866667, 0.4       , 0.4       , 0.408     , 0.408     ,\n",
       "       0.42933333, 0.42933333, 0.432     , 0.432     , 0.44266667,\n",
       "       0.44266667, 0.464     , 0.464     , 0.47733333, 0.47733333,\n",
       "       0.50133333, 0.50133333, 0.50933333, 0.50933333, 0.512     ,\n",
       "       0.512     , 0.53066667, 0.53066667, 0.54666667, 0.54666667,\n",
       "       0.57066667, 0.57066667, 0.58133333, 0.58133333, 0.65866667,\n",
       "       0.65866667, 0.66666667, 0.66666667, 0.67466667, 0.67466667,\n",
       "       0.68      , 0.68      , 0.69066667, 0.69066667, 0.69866667,\n",
       "       0.69866667, 0.808     , 0.808     , 0.91733333, 0.91733333,\n",
       "       0.98933333, 0.98933333, 0.99733333, 0.99733333, 1.        ])"
      ]
     },
     "execution_count": 32,
     "metadata": {},
     "output_type": "execute_result"
    }
   ],
   "source": [
    "fpr"
   ]
  },
  {
   "cell_type": "code",
   "execution_count": 33,
   "id": "12773c8d",
   "metadata": {},
   "outputs": [
    {
     "data": {
      "text/plain": [
       "array([0.        , 0.00497512, 0.00497512, 0.02487562, 0.02487562,\n",
       "       0.06467662, 0.06467662, 0.07960199, 0.07960199, 0.13432836,\n",
       "       0.13432836, 0.16915423, 0.16915423, 0.17412935, 0.17412935,\n",
       "       0.25373134, 0.25373134, 0.25870647, 0.25870647, 0.26865672,\n",
       "       0.26865672, 0.30348259, 0.30348259, 0.30845771, 0.30845771,\n",
       "       0.31343284, 0.31343284, 0.31840796, 0.31840796, 0.32338308,\n",
       "       0.32338308, 0.34328358, 0.34328358, 0.35820896, 0.35820896,\n",
       "       0.37810945, 0.37810945, 0.39303483, 0.39303483, 0.42288557,\n",
       "       0.42288557, 0.43283582, 0.43283582, 0.43781095, 0.43781095,\n",
       "       0.44776119, 0.44776119, 0.45771144, 0.45771144, 0.46766169,\n",
       "       0.46766169, 0.51243781, 0.51243781, 0.51741294, 0.51741294,\n",
       "       0.56716418, 0.56716418, 0.5721393 , 0.5721393 , 0.57711443,\n",
       "       0.57711443, 0.58706468, 0.58706468, 0.60696517, 0.60696517,\n",
       "       0.62189055, 0.62189055, 0.64179104, 0.64179104, 0.64676617,\n",
       "       0.64676617, 0.65174129, 0.65174129, 0.66666667, 0.66666667,\n",
       "       0.68656716, 0.68656716, 0.69651741, 0.69651741, 0.70149254,\n",
       "       0.70149254, 0.70646766, 0.70646766, 0.71144279, 0.71144279,\n",
       "       0.71641791, 0.71641791, 0.72139303, 0.72139303, 0.72636816,\n",
       "       0.72636816, 0.73134328, 0.73134328, 0.73631841, 0.73631841,\n",
       "       0.74129353, 0.74129353, 0.74626866, 0.74626866, 0.75621891,\n",
       "       0.75621891, 0.76119403, 0.76119403, 0.7761194 , 0.7761194 ,\n",
       "       0.78109453, 0.78109453, 0.78606965, 0.78606965, 0.7960199 ,\n",
       "       0.7960199 , 0.80099502, 0.80099502, 0.82089552, 0.82089552,\n",
       "       0.82587065, 0.82587065, 0.83084577, 0.83084577, 0.8358209 ,\n",
       "       0.8358209 , 0.84577114, 0.84577114, 0.85074627, 0.85074627,\n",
       "       0.85572139, 0.85572139, 0.86069652, 0.86069652, 0.86567164,\n",
       "       0.86567164, 0.88059701, 0.88059701, 0.89054726, 0.89054726,\n",
       "       0.90049751, 0.90049751, 0.90547264, 0.90547264, 0.91542289,\n",
       "       0.91542289, 0.92039801, 0.92039801, 0.92537313, 0.92537313,\n",
       "       0.93034826, 0.93034826, 0.93532338, 0.93532338, 0.94029851,\n",
       "       0.94029851, 0.94527363, 0.94527363, 0.95024876, 0.95024876,\n",
       "       0.95522388, 0.95522388, 0.960199  , 0.960199  , 0.96517413,\n",
       "       0.96517413, 0.97014925, 0.97014925, 0.97512438, 0.97512438,\n",
       "       0.9800995 , 0.9800995 , 0.98507463, 0.98507463, 0.99004975,\n",
       "       0.99004975, 0.99502488, 0.99502488, 1.        , 1.        ])"
      ]
     },
     "execution_count": 33,
     "metadata": {},
     "output_type": "execute_result"
    }
   ],
   "source": [
    "tpr"
   ]
  },
  {
   "cell_type": "code",
   "execution_count": 34,
   "id": "3b3bdaf3",
   "metadata": {},
   "outputs": [
    {
     "data": {
      "text/plain": [
       "array([1.96417993, 0.96417993, 0.96336848, 0.94492621, 0.94439972,\n",
       "       0.88578619, 0.88559035, 0.87771198, 0.87770558, 0.83508716,\n",
       "       0.83310376, 0.82183529, 0.81334843, 0.8124765 , 0.8071147 ,\n",
       "       0.7772148 , 0.77194077, 0.7698462 , 0.76877662, 0.75833326,\n",
       "       0.75761255, 0.72587151, 0.72312019, 0.72077485, 0.72012117,\n",
       "       0.72001738, 0.71761249, 0.71273585, 0.70556722, 0.70113511,\n",
       "       0.69525401, 0.6792286 , 0.6749774 , 0.6713053 , 0.66399262,\n",
       "       0.6556974 , 0.65549434, 0.6499874 , 0.64888749, 0.62624034,\n",
       "       0.62099454, 0.6198668 , 0.60589046, 0.60563067, 0.60358548,\n",
       "       0.60125113, 0.59985783, 0.59461511, 0.59220819, 0.5883011 ,\n",
       "       0.58028093, 0.55287489, 0.54478675, 0.54452758, 0.53423359,\n",
       "       0.51444488, 0.51086333, 0.50833887, 0.49453042, 0.49175316,\n",
       "       0.49039095, 0.48483888, 0.47832571, 0.46931107, 0.45390767,\n",
       "       0.44974073, 0.44735382, 0.44334698, 0.43035217, 0.42954635,\n",
       "       0.42826073, 0.42508867, 0.40991199, 0.40336291, 0.40174332,\n",
       "       0.39702262, 0.39664121, 0.39301109, 0.38432678, 0.37978984,\n",
       "       0.37475339, 0.37318449, 0.36298417, 0.3629172 , 0.35990217,\n",
       "       0.35653347, 0.35377533, 0.35358322, 0.33122748, 0.33032768,\n",
       "       0.32669069, 0.3265594 , 0.32428866, 0.3238552 , 0.31994933,\n",
       "       0.31971899, 0.31557838, 0.3151205 , 0.31421744, 0.31122672,\n",
       "       0.30835967, 0.30831997, 0.3072069 , 0.30438316, 0.30362177,\n",
       "       0.30339145, 0.30083671, 0.3002307 , 0.29798821, 0.29641141,\n",
       "       0.29390507, 0.29335116, 0.29004696, 0.28536171, 0.28363251,\n",
       "       0.28204612, 0.27558016, 0.2755248 , 0.2752406 , 0.26815812,\n",
       "       0.26598484, 0.26534926, 0.25665685, 0.25498452, 0.24402694,\n",
       "       0.24371877, 0.23966527, 0.23896633, 0.23508433, 0.23484065,\n",
       "       0.22725262, 0.22435176, 0.22422075, 0.2200486 , 0.21589977,\n",
       "       0.21236288, 0.20680734, 0.20504219, 0.19865193, 0.1958018 ,\n",
       "       0.18485717, 0.18344965, 0.18204379, 0.18118392, 0.1811484 ,\n",
       "       0.17953974, 0.17350223, 0.17226861, 0.16997338, 0.16973981,\n",
       "       0.15964657, 0.15737115, 0.15129533, 0.15069706, 0.12952276,\n",
       "       0.12791615, 0.12674176, 0.12656986, 0.12312378, 0.1229471 ,\n",
       "       0.12207234, 0.12103674, 0.11769731, 0.11740613, 0.11566473,\n",
       "       0.11408722, 0.08478642, 0.08361595, 0.05192286, 0.05183789,\n",
       "       0.01924016, 0.01915823, 0.01204505, 0.01201601, 0.00479607])"
      ]
     },
     "execution_count": 34,
     "metadata": {},
     "output_type": "execute_result"
    }
   ],
   "source": [
    "thresh"
   ]
  },
  {
   "cell_type": "code",
   "execution_count": 37,
   "id": "bfc9586e",
   "metadata": {},
   "outputs": [
    {
     "data": {
      "text/plain": [
       "Text(0.5, 1.0, 'Receiver Operating Charaacteristics Curve')"
      ]
     },
     "execution_count": 37,
     "metadata": {},
     "output_type": "execute_result"
    },
    {
     "data": {
      "image/png": "[encoded data removed]",
      "text/plain": [
       "<Figure size 432x288 with 1 Axes>"
      ]
     },
     "metadata": {
      "needs_background": "light"
     },
     "output_type": "display_data"
    }
   ],
   "source": [
    "plt.plot(fpr,tpr)\n",
    "plt.xlabel(\"False positive Rate(FPR)\")\n",
    "plt.ylabel(\"True Positive rate(TPR)\")\n",
    "plt.title(\"Receiver Operating Charaacteristics Curve\")"
   ]
  },
  {
   "cell_type": "code",
   "execution_count": 40,
   "id": "26fc6d44",
   "metadata": {},
   "outputs": [
    {
     "data": {
      "text/plain": [
       "(array([ 0,  1,  2,  3,  4,  5,  6,  7,  8,  9, 10, 11, 12, 13, 14, 15, 16,\n",
       "        17, 18, 19, 20, 21, 22, 23, 24, 25, 26, 27, 28, 29, 30, 31, 32, 33,\n",
       "        34, 35, 36, 37, 38, 39, 40, 41, 42, 43, 44, 45, 46, 47, 48, 49, 50,\n",
       "        51, 52, 53, 54, 55, 56, 57, 58, 59, 60], dtype=int64),)"
      ]
     },
     "execution_count": 40,
     "metadata": {},
     "output_type": "execute_result"
    }
   ],
   "source": [
    "np.where(thresh >= 0.49)"
   ]
  },
  {
   "cell_type": "code",
   "execution_count": null,
   "id": "5f5588a0",
   "metadata": {},
   "outputs": [],
   "source": []
  }
 ],
 "metadata": {
  "kernelspec": {
   "display_name": "Python 3 (ipykernel)",
   "language": "python",
   "name": "python3"
  },
  "language_info": {
   "codemirror_mode": {
    "name": "ipython",
    "version": 3
   },
   "file_extension": ".py",
   "mimetype": "text/x-python",
   "name": "python",
   "nbconvert_exporter": "python",
   "pygments_lexer": "ipython3",
   "version": "3.10.0"
  }
 },
 "nbformat": 4,
 "nbformat_minor": 5
}
